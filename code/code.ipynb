{
 "cells": [
  {
   "cell_type": "markdown",
   "metadata": {},
   "source": [
    "# Link Prediction on LastFM music dataset- Pytorch Geometric (Not my Master thesis!)\n",
    "\n",
    "This Jupyter notebook demonstrates **link prediction** using **Graph Neural Networks (GNNs)** on the **LastFM** dataset with **PyTorch Geometric**. The task is to **predict potential links between users and artists in a heterogeneous bipartite graph**, where the **nodes represent users and artists**, and the **edges represent user interactions with artists**. By applying GNN-based techniques, we aim to predict missing or future edges between users and artists, utilizing the graph's structure and node features to enhance the accuracy of the predictions.\n",
    "\n",
    "This is **not my Master thesis**. It was just a short example that I worked on to understand the fundamentals of how GNNs can be used to approach the problem of Link prediction. **The Master Thesis invovles more thorough research and experimentation based on recent research papers and on a real-life dataset from the city of Brønderslev, Denmark**"
   ]
  },
  {
   "cell_type": "code",
   "execution_count": 130,
   "metadata": {},
   "outputs": [],
   "source": [
    "import torch\n",
    "import numpy as np\n",
    "import pandas as pd\n",
    "import matplotlib.pyplot as plt\n",
    "import torch_geometric.transforms as T\n",
    "import torch.nn.functional as F\n",
    "\n",
    "\n",
    "from tqdm import tqdm\n",
    "from torch.nn import BCEWithLogitsLoss\n",
    "from torch.nn import ModuleList, Linear\n",
    "from sklearn.metrics import roc_auc_score\n",
    "from torch_geometric.datasets import LastFM\n",
    "from torch_geometric.data import HeteroData\n",
    "from torch_geometric.loader import LinkNeighborLoader\n",
    "from torch_geometric.nn import SAGEConv, to_hetero, global_add_pool"
   ]
  },
  {
   "cell_type": "code",
   "execution_count": 131,
   "metadata": {},
   "outputs": [],
   "source": [
    "args = dict()\n",
    "args[\"val_ratio\"] = 0.1\n",
    "args[\"test_ratio\"] = 0.1\n",
    "args[\"neg_sampling_ratio\"] = 1.0\n",
    "args[\"num_neighbors\"] = 10\n",
    "args[\"num_hops\"] = 3\n",
    "args[\"hidden_channels\"] = 10\n",
    "args[\"num_layers\"] = 3\n",
    "args[\"lr\"] = 0.0001\n",
    "args[\"epochs\"] = 10"
   ]
  },
  {
   "cell_type": "code",
   "execution_count": 132,
   "metadata": {},
   "outputs": [
    {
     "name": "stdout",
     "output_type": "stream",
     "text": [
      "Number of graphs: 1\n"
     ]
    }
   ],
   "source": [
    "dataset = LastFM(root=\"../dataset\")\n",
    "print(f\"Number of graphs: {len(dataset)}\")"
   ]
  },
  {
   "cell_type": "code",
   "execution_count": 133,
   "metadata": {},
   "outputs": [],
   "source": [
    "data = dataset[0]"
   ]
  },
  {
   "cell_type": "code",
   "execution_count": 134,
   "metadata": {},
   "outputs": [
    {
     "data": {
      "text/plain": [
       "HeteroData(\n",
       "  user={ num_nodes=1892 },\n",
       "  artist={ num_nodes=17632 },\n",
       "  tag={ num_nodes=1088 },\n",
       "  (user, to, artist)={\n",
       "    train_neg_edge_index=[2, 33294760],\n",
       "    val_pos_edge_index=[2, 9283],\n",
       "    val_neg_edge_index=[2, 9283],\n",
       "    test_pos_edge_index=[2, 18567],\n",
       "    test_neg_edge_index=[2, 18567],\n",
       "    edge_index=[2, 64984],\n",
       "  },\n",
       "  (user, to, user)={ edge_index=[2, 25434] },\n",
       "  (artist, to, user)={ edge_index=[2, 64984] },\n",
       "  (artist, to, tag)={ edge_index=[2, 23253] },\n",
       "  (tag, to, artist)={ edge_index=[2, 23253] }\n",
       ")"
      ]
     },
     "execution_count": 134,
     "metadata": {},
     "output_type": "execute_result"
    }
   ],
   "source": [
    "data = dataset[0]\n",
    "data"
   ]
  },
  {
   "cell_type": "code",
   "execution_count": 135,
   "metadata": {},
   "outputs": [
    {
     "data": {
      "text/plain": [
       "HeteroData(\n",
       "  user={ node_id=[1892] },\n",
       "  artist={ node_id=[17632] },\n",
       "  (user, to, artist)={ edge_index=[2, 92834] },\n",
       "  (artist, rev_to, user)={ edge_index=[2, 92834] }\n",
       ")"
      ]
     },
     "execution_count": 135,
     "metadata": {},
     "output_type": "execute_result"
    }
   ],
   "source": [
    "data_new = HeteroData()\n",
    "data_new[\"user\"].node_id = torch.arange(data[\"user\"].num_nodes)\n",
    "data_new[\"artist\"].node_id = torch.arange(data[\"artist\"].num_nodes)\n",
    "data_new[\"user\", \"to\", \"artist\"].edge_index = torch.cat((data[\"user\", \"to\", \"artist\"].edge_index, data[\"user\", \"to\", \"artist\"].val_pos_edge_index, data[\"user\", \"to\", \"artist\"].test_pos_edge_index), dim=1)\n",
    "data_new = T.ToUndirected()(data_new)\n",
    "data_new"
   ]
  },
  {
   "cell_type": "code",
   "execution_count": 136,
   "metadata": {},
   "outputs": [],
   "source": [
    "split_transform = T.RandomLinkSplit(\n",
    "    num_val=0.1,\n",
    "    num_test=0.1,\n",
    "    neg_sampling_ratio=1.0,\n",
    "    add_negative_train_samples=True,\n",
    "    edge_types=(\"user\", \"to\", \"artist\"),\n",
    "    rev_edge_types=(\"artist\", \"rev_to\", \"user\"),\n",
    ")"
   ]
  },
  {
   "cell_type": "code",
   "execution_count": 137,
   "metadata": {},
   "outputs": [
    {
     "data": {
      "text/plain": [
       "(HeteroData(\n",
       "   user={ node_id=[1892] },\n",
       "   artist={ node_id=[17632] },\n",
       "   (user, to, artist)={\n",
       "     edge_index=[2, 74268],\n",
       "     edge_label=[148536],\n",
       "     edge_label_index=[2, 148536],\n",
       "   },\n",
       "   (artist, rev_to, user)={ edge_index=[2, 74268] }\n",
       " ),\n",
       " HeteroData(\n",
       "   user={ node_id=[1892] },\n",
       "   artist={ node_id=[17632] },\n",
       "   (user, to, artist)={\n",
       "     edge_index=[2, 74268],\n",
       "     edge_label=[18566],\n",
       "     edge_label_index=[2, 18566],\n",
       "   },\n",
       "   (artist, rev_to, user)={ edge_index=[2, 74268] }\n",
       " ),\n",
       " HeteroData(\n",
       "   user={ node_id=[1892] },\n",
       "   artist={ node_id=[17632] },\n",
       "   (user, to, artist)={\n",
       "     edge_index=[2, 83551],\n",
       "     edge_label=[18566],\n",
       "     edge_label_index=[2, 18566],\n",
       "   },\n",
       "   (artist, rev_to, user)={ edge_index=[2, 83551] }\n",
       " ))"
      ]
     },
     "execution_count": 137,
     "metadata": {},
     "output_type": "execute_result"
    }
   ],
   "source": [
    "train_dataset, val_dataset, test_dataset = split_transform(data_new)\n",
    "train_dataset, val_dataset, test_dataset"
   ]
  },
  {
   "cell_type": "code",
   "execution_count": 138,
   "metadata": {},
   "outputs": [],
   "source": [
    "num_neighbors = [args[\"num_neighbors\"]] * args[\"num_hops\"]\n",
    "\n",
    "train_loader = LinkNeighborLoader(\n",
    "    data=data_new,\n",
    "    num_neighbors=num_neighbors,\n",
    "    edge_label_index=((\"user\", \"to\", \"artist\"), train_dataset[\"user\", \"to\", \"artist\"].edge_label_index),\n",
    "    edge_label=train_dataset[\"user\", \"to\", \"artist\"].edge_label,\n",
    "    subgraph_type=\"bidirectional\",\n",
    "    neg_sampling=None,\n",
    "    batch_size=32,\n",
    "    shuffle=True\n",
    ")\n",
    "\n",
    "val_loader = LinkNeighborLoader(\n",
    "    data=data_new,\n",
    "    num_neighbors=num_neighbors,\n",
    "    edge_label_index=((\"user\", \"to\", \"artist\"), val_dataset[\"user\", \"to\", \"artist\"].edge_label_index),\n",
    "    edge_label=val_dataset[\"user\", \"to\", \"artist\"].edge_label,\n",
    "    subgraph_type=\"bidirectional\",\n",
    "    neg_sampling=None,\n",
    "    batch_size=32,\n",
    "    shuffle=True\n",
    ")\n",
    "\n",
    "test_loader = LinkNeighborLoader(\n",
    "    data=data_new,\n",
    "    num_neighbors=num_neighbors,\n",
    "    edge_label_index=((\"user\", \"to\", \"artist\"), test_dataset[\"user\", \"to\", \"artist\"].edge_label_index),\n",
    "    edge_label=test_dataset[\"user\", \"to\", \"artist\"].edge_label,\n",
    "    subgraph_type=\"bidirectional\",\n",
    "    neg_sampling=None,\n",
    "    batch_size=32,\n",
    "    shuffle=True\n",
    ")"
   ]
  },
  {
   "cell_type": "code",
   "execution_count": 139,
   "metadata": {},
   "outputs": [
    {
     "data": {
      "text/plain": [
       "HeteroData(\n",
       "  user={\n",
       "    node_id=[1784],\n",
       "    n_id=[1784],\n",
       "  },\n",
       "  artist={\n",
       "    node_id=[4375],\n",
       "    n_id=[4375],\n",
       "  },\n",
       "  (user, to, artist)={\n",
       "    edge_index=[2, 18203],\n",
       "    input_id=[32],\n",
       "    edge_label_index=[2, 32],\n",
       "    edge_label=[32],\n",
       "  },\n",
       "  (artist, rev_to, user)={ edge_index=[2, 18203] }\n",
       ")"
      ]
     },
     "execution_count": 139,
     "metadata": {},
     "output_type": "execute_result"
    }
   ],
   "source": [
    "sample = next(iter(train_loader))\n",
    "sample"
   ]
  },
  {
   "cell_type": "code",
   "execution_count": 140,
   "metadata": {},
   "outputs": [],
   "source": [
    "device = \"cuda\" if torch.cuda.is_available() else \"cpu\"\n",
    "metadata = sample.metadata()\n",
    "\n",
    "node_embedding = dict() \n",
    "node_embedding[\"user\"] = torch.nn.Embedding(data_new[\"user\"].num_nodes, args[\"hidden_channels\"]).to(device)\n",
    "node_embedding[\"artist\"] = torch.nn.Embedding(data_new[\"artist\"].num_nodes, args[\"hidden_channels\"]).to(device)"
   ]
  },
  {
   "cell_type": "code",
   "execution_count": 141,
   "metadata": {},
   "outputs": [],
   "source": [
    "class Model(torch.nn.Module):\n",
    "    def __init__(self, args, node_embedding, device, metadata, dropout = 0.5):\n",
    "        super().__init__()\n",
    "\n",
    "        self.lin1 = Linear(args[\"hidden_channels\"], args[\"hidden_channels\"])\n",
    "        self.lin2 = Linear(args[\"hidden_channels\"], 1)\n",
    "        self.dropout = dropout\n",
    "        self.device = device\n",
    "\n",
    "        self.node_embedding = node_embedding\n",
    "        \n",
    "        initial_channels = 0 \n",
    "\n",
    "        if self.node_embedding is not None:\n",
    "            initial_channels += self.node_embedding[\"user\"].embedding_dim    \n",
    "        \n",
    "        else:\n",
    "            initial_channels = args[\"hidden_channels\"]\n",
    "\n",
    "        self.gnn = GNN_Model(initial_channels, args['hidden_channels'], args['num_layers'], dropout=self.dropout).to(device)\n",
    "        \n",
    "        self.gnn = to_hetero(self.gnn, metadata=metadata)\n",
    "        \n",
    "\n",
    "    def forward(self, data):\n",
    "        x_dict = dict()\n",
    "\n",
    "        if self.node_embedding is not None and self.node_embedding[\"user\"] is not None and self.node_embedding[\"artist\"] is not None and data[\"user\"][\"node_id\"] is not None and data[\"artist\"][\"node_id\"] is not None:\n",
    "            u_emb = self.node_embedding[\"user\"](data[\"user\"][\"node_id\"])\n",
    "            a_emb = self.node_embedding[\"artist\"](data[\"artist\"][\"node_id\"])\n",
    "            x_dict[\"user\"] = u_emb.to(torch.float)\n",
    "            x_dict[\"artist\"] = a_emb.to(torch.float)\n",
    "\n",
    "        x_dict = self.gnn(x=x_dict, edge_index=data.edge_index_dict)\n",
    "        user = x_dict[\"user\"][data[\"user\", \"to\", \"artist\"].edge_label_index[0]]\n",
    "        artist = x_dict[\"artist\"][data[\"user\", \"to\", \"artist\"].edge_label_index[1]]\n",
    "        \n",
    "        x = user * artist\n",
    "        x = F.relu(self.lin1(x))\n",
    "        x = F.dropout(x, p=self.dropout, training=self.training)\n",
    "        x = self.lin2(x)\n",
    "        return x\n",
    "\n",
    "\n",
    "class GNN_Model(torch.nn.Module):\n",
    "    def __init__(self, initial_channels, hidden_channels, num_layers, dropout):\n",
    "        super(GNN_Model, self).__init__()\n",
    "        \n",
    "        self.convs = ModuleList()\n",
    "        self.convs.append(SAGEConv(initial_channels, hidden_channels))\n",
    "        for _ in range(num_layers - 1):\n",
    "            self.convs.append(SAGEConv(hidden_channels, hidden_channels))\n",
    "        \n",
    "        self.dropout = dropout\n",
    "\n",
    "    def reset_parameters(self):\n",
    "        for conv in self.convs:\n",
    "            conv.reset_parameters()\n",
    "\n",
    "    def forward(self, x, edge_index):\n",
    "        for conv in self.convs[:-1]:\n",
    "            x = conv(x, edge_index)\n",
    "            x = F.relu(x)\n",
    "            x = F.dropout(x, p=self.dropout, training=self.training)\n",
    "        x = self.convs[-1](x, edge_index)\n",
    "\n",
    "        return x"
   ]
  },
  {
   "cell_type": "code",
   "execution_count": 142,
   "metadata": {},
   "outputs": [],
   "source": [
    "def train():\n",
    "    model.train()\n",
    "\n",
    "    total_loss = 0\n",
    "    for batch in tqdm(train_loader):\n",
    "        batch = batch.to(device)\n",
    "        optimizer.zero_grad()\n",
    "        logits = model(batch)\n",
    "        loss = BCEWithLogitsLoss()(logits.view(-1), batch[\"user\", \"to\", \"artist\"].edge_label.to(torch.float))\n",
    "        loss.backward()\n",
    "        optimizer.step()\n",
    "        total_loss += loss.item()\n",
    "\n",
    "    return total_loss / len(train_dataset)\n",
    "\n",
    "\n",
    "@torch.no_grad()\n",
    "def validate_and_test():\n",
    "    model.eval()\n",
    "    \n",
    "    total_val_loss = 0\n",
    "    y_pred, y_true = [], []\n",
    "    for batch in tqdm(val_loader):\n",
    "        batch = batch.to(device)\n",
    "        logits = model(batch)\n",
    "        val_loss = BCEWithLogitsLoss()(logits.view(-1), batch[\"user\", \"to\", \"artist\"].edge_label.to(torch.float))\n",
    "        total_val_loss += val_loss.item()\n",
    "        y_pred.append(logits.view(-1).cpu())\n",
    "        y_true.append(batch[\"user\", \"to\", \"artist\"].edge_label.view(-1).cpu().to(torch.float))\n",
    "    val_pred, val_true = torch.cat(y_pred), torch.cat(y_true)\n",
    "\n",
    "    total_test_loss = 0\n",
    "    y_pred, y_true = [], []\n",
    "    for batch in tqdm(test_loader):\n",
    "        batch = batch.to(device)\n",
    "        logits = model(batch)\n",
    "        test_loss = BCEWithLogitsLoss()(logits.view(-1), batch[\"user\", \"to\", \"artist\"].edge_label.to(torch.float))\n",
    "        total_test_loss += test_loss.item()\n",
    "        y_pred.append(logits.view(-1).cpu())\n",
    "        y_true.append(batch[\"user\", \"to\", \"artist\"].edge_label.view(-1).cpu().to(torch.float))\n",
    "    test_pred, test_true = torch.cat(y_pred), torch.cat(y_true)\n",
    "\n",
    "\n",
    "    valid_auc = roc_auc_score(val_true, val_pred)\n",
    "    test_auc = roc_auc_score(test_true, test_pred)\n",
    "    results = {}\n",
    "    results['AUC'] = (valid_auc, test_auc)\n",
    "\n",
    "    return total_val_loss / len(val_dataset), total_test_loss / len(test_dataset), results"
   ]
  },
  {
   "cell_type": "code",
   "execution_count": 143,
   "metadata": {},
   "outputs": [
    {
     "name": "stderr",
     "output_type": "stream",
     "text": [
      "g:\\miniconda\\envs\\thesis_seal\\Lib\\site-packages\\torch_geometric\\nn\\fx.py:132: UserWarning: Found function 'dropout' with keyword argument 'training'. During FX tracing, this will likely be baked in as a constant value. Consider replacing this function by a module to properly encapsulate its training flag.\n",
      "  warnings.warn(f\"Found function '{node.name}' with keyword \"\n",
      "g:\\miniconda\\envs\\thesis_seal\\Lib\\site-packages\\torch_geometric\\nn\\fx.py:132: UserWarning: Found function 'dropout_1' with keyword argument 'training'. During FX tracing, this will likely be baked in as a constant value. Consider replacing this function by a module to properly encapsulate its training flag.\n",
      "  warnings.warn(f\"Found function '{node.name}' with keyword \"\n"
     ]
    }
   ],
   "source": [
    "model = Model(args, node_embedding, device, metadata).to(device)\n",
    "\n",
    "torch.nn.init.xavier_uniform_(node_embedding[\"user\"].weight)\n",
    "torch.nn.init.xavier_uniform_(node_embedding[\"artist\"].weight)\n",
    "\n",
    "parameters = list(node_embedding[\"user\"].parameters())\n",
    "parameters += list(node_embedding[\"artist\"].parameters())\n",
    "\n",
    "optimizer = torch.optim.Adam(params=parameters + list(model.parameters()), lr=args['lr'])"
   ]
  },
  {
   "cell_type": "code",
   "execution_count": 144,
   "metadata": {},
   "outputs": [
    {
     "name": "stderr",
     "output_type": "stream",
     "text": [
      "100%|██████████| 4642/4642 [08:36<00:00,  8.99it/s]\n",
      "100%|██████████| 581/581 [00:59<00:00,  9.69it/s]\n",
      "100%|██████████| 581/581 [01:03<00:00,  9.16it/s]\n"
     ]
    },
    {
     "name": "stdout",
     "output_type": "stream",
     "text": [
      "Epoch: 0\n",
      "Train Loss: 804.3707\n",
      "Validation Loss: 99.1400, Validation AUC: 0.6438222224780352\n",
      "Test Loss: 99.1741, Test AUC: 0.6442236366432607\n"
     ]
    },
    {
     "name": "stderr",
     "output_type": "stream",
     "text": [
      "100%|██████████| 4642/4642 [08:51<00:00,  8.73it/s]\n",
      "100%|██████████| 581/581 [01:00<00:00,  9.67it/s]\n",
      "100%|██████████| 581/581 [00:54<00:00, 10.71it/s]\n"
     ]
    },
    {
     "name": "stdout",
     "output_type": "stream",
     "text": [
      "Epoch: 1\n",
      "Train Loss: 693.7074\n",
      "Validation Loss: 74.8566, Validation AUC: 0.8106669163627597\n",
      "Test Loss: 75.5591, Test AUC: 0.8079343316295458\n"
     ]
    },
    {
     "name": "stderr",
     "output_type": "stream",
     "text": [
      "100%|██████████| 4642/4642 [05:31<00:00, 13.99it/s]\n",
      "100%|██████████| 581/581 [00:35<00:00, 16.26it/s]\n",
      "100%|██████████| 581/581 [00:35<00:00, 16.30it/s]\n"
     ]
    },
    {
     "name": "stdout",
     "output_type": "stream",
     "text": [
      "Epoch: 2\n",
      "Train Loss: 609.2754\n",
      "Validation Loss: 70.4602, Validation AUC: 0.8403886753012267\n",
      "Test Loss: 71.6884, Test AUC: 0.8329310681775818\n"
     ]
    },
    {
     "name": "stderr",
     "output_type": "stream",
     "text": [
      "100%|██████████| 4642/4642 [05:29<00:00, 14.08it/s]\n",
      "100%|██████████| 581/581 [00:35<00:00, 16.29it/s]\n",
      "100%|██████████| 581/581 [00:34<00:00, 16.60it/s]\n"
     ]
    },
    {
     "name": "stdout",
     "output_type": "stream",
     "text": [
      "Epoch: 3\n",
      "Train Loss: 573.4866\n",
      "Validation Loss: 67.2021, Validation AUC: 0.8594252502048499\n",
      "Test Loss: 68.0727, Test AUC: 0.8567159961505366\n"
     ]
    },
    {
     "name": "stderr",
     "output_type": "stream",
     "text": [
      "100%|██████████| 4642/4642 [05:27<00:00, 14.19it/s]\n",
      "100%|██████████| 581/581 [00:35<00:00, 16.19it/s]\n",
      "100%|██████████| 581/581 [00:35<00:00, 16.49it/s]\n"
     ]
    },
    {
     "name": "stdout",
     "output_type": "stream",
     "text": [
      "Epoch: 4\n",
      "Train Loss: 544.9312\n",
      "Validation Loss: 64.5997, Validation AUC: 0.872476139550486\n",
      "Test Loss: 65.5106, Test AUC: 0.8693395006473466\n"
     ]
    },
    {
     "name": "stderr",
     "output_type": "stream",
     "text": [
      "100%|██████████| 4642/4642 [05:03<00:00, 15.29it/s]\n",
      "100%|██████████| 581/581 [00:31<00:00, 18.18it/s]\n",
      "100%|██████████| 581/581 [00:32<00:00, 18.09it/s]\n"
     ]
    },
    {
     "name": "stdout",
     "output_type": "stream",
     "text": [
      "Epoch: 5\n",
      "Train Loss: 520.6683\n",
      "Validation Loss: 62.9717, Validation AUC: 0.880675553181653\n",
      "Test Loss: 62.8993, Test AUC: 0.8808445134824693\n"
     ]
    },
    {
     "name": "stderr",
     "output_type": "stream",
     "text": [
      "100%|██████████| 4642/4642 [04:58<00:00, 15.55it/s]\n",
      "100%|██████████| 581/581 [00:31<00:00, 18.37it/s]\n",
      "100%|██████████| 581/581 [00:31<00:00, 18.31it/s]\n"
     ]
    },
    {
     "name": "stdout",
     "output_type": "stream",
     "text": [
      "Epoch: 6\n",
      "Train Loss: 502.7399\n",
      "Validation Loss: 60.9847, Validation AUC: 0.8882573217571236\n",
      "Test Loss: 60.8540, Test AUC: 0.8885834464696226\n"
     ]
    },
    {
     "name": "stderr",
     "output_type": "stream",
     "text": [
      "100%|██████████| 4642/4642 [04:57<00:00, 15.62it/s]\n",
      "100%|██████████| 581/581 [00:31<00:00, 18.58it/s]\n",
      "100%|██████████| 581/581 [00:31<00:00, 18.38it/s]\n"
     ]
    },
    {
     "name": "stdout",
     "output_type": "stream",
     "text": [
      "Epoch: 7\n",
      "Train Loss: 489.3754\n",
      "Validation Loss: 59.4824, Validation AUC: 0.893343578021463\n",
      "Test Loss: 59.8580, Test AUC: 0.8922562442174468\n"
     ]
    },
    {
     "name": "stderr",
     "output_type": "stream",
     "text": [
      "100%|██████████| 4642/4642 [04:57<00:00, 15.60it/s]\n",
      "100%|██████████| 581/581 [00:31<00:00, 18.66it/s]\n",
      "100%|██████████| 581/581 [00:30<00:00, 18.74it/s]\n"
     ]
    },
    {
     "name": "stdout",
     "output_type": "stream",
     "text": [
      "Epoch: 8\n",
      "Train Loss: 478.4701\n",
      "Validation Loss: 59.1389, Validation AUC: 0.8950310748280728\n",
      "Test Loss: 59.7226, Test AUC: 0.8920754125987918\n"
     ]
    },
    {
     "name": "stderr",
     "output_type": "stream",
     "text": [
      "100%|██████████| 4642/4642 [04:48<00:00, 16.06it/s]\n",
      "100%|██████████| 581/581 [00:30<00:00, 18.89it/s]\n",
      "100%|██████████| 581/581 [00:30<00:00, 18.84it/s]"
     ]
    },
    {
     "name": "stdout",
     "output_type": "stream",
     "text": [
      "Epoch: 9\n",
      "Train Loss: 468.6366\n",
      "Validation Loss: 57.5957, Validation AUC: 0.9010413675507496\n",
      "Test Loss: 58.2708, Test AUC: 0.8975012605007058\n"
     ]
    },
    {
     "name": "stderr",
     "output_type": "stream",
     "text": [
      "\n"
     ]
    }
   ],
   "source": [
    "train_loss_history = []\n",
    "val_loss_history = []\n",
    "test_loss_history = []\n",
    "\n",
    "for epoch in range(args[\"epochs\"]):\n",
    "    train_loss = train()\n",
    "    train_loss_history.append(train_loss)\n",
    "\n",
    "    val_loss, test_loss, results = validate_and_test()\n",
    "    val_loss_history.append(val_loss)\n",
    "    test_loss_history.append(test_loss)\n",
    "\n",
    "    valid_auc, test_auc = results[\"AUC\"]\n",
    "\n",
    "    print(f\"Epoch: {epoch}\")\n",
    "    print(f\"Train Loss: {train_loss:.4f}\")\n",
    "    print(f\"Validation Loss: {val_loss:.4f}, Validation AUC: {valid_auc}\")\n",
    "    print(f\"Test Loss: {test_loss:.4f}, Test AUC: {test_auc}\")"
   ]
  },
  {
   "cell_type": "code",
   "execution_count": 145,
   "metadata": {},
   "outputs": [
    {
     "data": {
      "image/png": "[encoded data removed]",
      "text/plain": [
       "<Figure size 1000x600 with 1 Axes>"
      ]
     },
     "metadata": {},
     "output_type": "display_data"
    }
   ],
   "source": [
    "plt.figure(figsize=(10, 6))\n",
    "plt.plot(train_loss_history, label='Training Loss')\n",
    "plt.plot(val_loss_history, label='Validation Loss')\n",
    "plt.plot(test_loss_history, label='Testing Loss')\n",
    "plt.xlabel('Epochs')\n",
    "plt.ylabel('Loss')\n",
    "plt.title('Loss Curve')\n",
    "plt.legend()\n",
    "plt.grid(True)\n",
    "plt.show()"
   ]
  },
  {
   "cell_type": "code",
   "execution_count": null,
   "metadata": {},
   "outputs": [],
   "source": []
  }
 ],
 "metadata": {
  "kernelspec": {
   "display_name": "ml-env",
   "language": "python",
   "name": "python3"
  },
  "language_info": {
   "codemirror_mode": {
    "name": "ipython",
    "version": 3
   },
   "file_extension": ".py",
   "mimetype": "text/x-python",
   "name": "python",
   "nbconvert_exporter": "python",
   "pygments_lexer": "ipython3",
   "version": "3.11.9"
  }
 },
 "nbformat": 4,
 "nbformat_minor": 2
}
