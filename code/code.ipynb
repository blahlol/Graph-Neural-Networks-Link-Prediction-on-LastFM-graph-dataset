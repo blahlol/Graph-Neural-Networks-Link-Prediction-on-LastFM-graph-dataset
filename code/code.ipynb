{
 "cells": [
  {
   "cell_type": "markdown",
   "metadata": {},
   "source": [
    "# Link Prediction on LastFM music dataset- Pytorch Geometric (Not my Master thesis!)\n",
    "\n",
    "This Jupyter notebook demonstrates **link prediction** using **Graph Neural Networks (GNNs)** on the **LastFM** dataset with **PyTorch Geometric**. The task is to **predict potential links between users and artists in a heterogeneous bipartite graph**, where the **nodes represent users and artists**, and the **edges represent user interactions with artists**. By applying GNN-based techniques, we aim to predict missing or future edges between users and artists, utilizing the graph's structure and node features to enhance the accuracy of the predictions.\n",
    "\n",
    "This is **not my Master thesis**. It was just a short example that I worked on to understand the fundamentals of how GNNs can be used to approach the problem of Link prediction. **The Master Thesis invovles more thorough research and experimentation based on recent research papers and on a real-life dataset from the city of Brønderslev, Denmark**"
   ]
  },
  {
   "cell_type": "markdown",
   "metadata": {},
   "source": [
    "### Fictional use case description\n",
    "\n",
    "A graph is created with two types of nodes: users and artists. \n",
    "- Every user of the streaming platform has a node for themselves in the graph. So do the artists.\n",
    "- The dataset is weird in the way that it has more artists than users which is often not how one would expect the dataset to be like.\n",
    "- When a user follows an artist on the streaming platform, an edge is created in the graph between the user and the artist.\n",
    "\n",
    "**Goal: The goal is to predict the existence of links between users and artists. When using GNNs, the underlying model learns from the structure of the graphs (from the existing connections) and becomes capable of prediction the links based on the patterns learned. So when a user visits an artist's page on the streaming platform, a score can be displayed which indicates how likely it is that the user might like this artist.** "
   ]
  },
  {
   "cell_type": "markdown",
   "metadata": {},
   "source": [
    "### Dataset introduction: LastFM\n",
    "\n",
    "**Source to import from**: From torch_geometric.datasets\n",
    "\n",
    "**Data Description**: \n",
    "- A subset of the last.fm music website keeping track of users’ listining information from various sources, as collected in the “MAGNN: Metapath Aggregated Graph Neural Network for Heterogeneous Graph Embedding” paper. \n",
    "- last.fm is a heterogeneous graph containing three types of entities - users (1,892 nodes), artists (17,632 nodes), and artist tags (1,088 nodes). \n",
    "- This dataset can be used for link prediction, and no labels or features are provided.\n",
    "\n",
    "Task relevant details are discussed below as needed in the section that follow."
   ]
  },
  {
   "cell_type": "markdown",
   "metadata": {},
   "source": [
    "### 1. Import all the libraries\n",
    "\n",
    "To train a model to perform link prediction, pytorch and pytorch geometric are used. All relevant components are imported below. In addition, Matplotlib is used to plot the loss curves. "
   ]
  },
  {
   "cell_type": "code",
   "execution_count": 1,
   "metadata": {},
   "outputs": [],
   "source": [
    "import torch\n",
    "import matplotlib.pyplot as plt\n",
    "import torch_geometric.transforms as T\n",
    "import torch.nn.functional as F\n",
    "\n",
    "\n",
    "from tqdm import tqdm\n",
    "from torch.nn import BCEWithLogitsLoss\n",
    "from torch.nn import ModuleList, Linear\n",
    "from sklearn.metrics import roc_auc_score\n",
    "from torch_geometric.datasets import LastFM\n",
    "from torch_geometric.data import HeteroData\n",
    "from torch_geometric.loader import LinkNeighborLoader\n",
    "from torch_geometric.nn import SAGEConv, to_hetero"
   ]
  },
  {
   "cell_type": "markdown",
   "metadata": {},
   "source": [
    "### 2. Define the parameters for training\n",
    "\n",
    "The code relies on defining certain parameter values that are used in the following sections.\n",
    "\n",
    "- val_ratio (Validation ratio): Indicates how much of the data needs to be in the validation split.\n",
    "- test_ratio (Test ratio): Indicates how much of the data needs to be in the test split.\n",
    "- neg_sampling_ratio (Negative sampling ratio): Indicates how many negative edges need to be sampled.\n",
    "- num_neighbors (Number of neighbors): Inidicates how many neighboring nodes are considered when sampling subgraphs\n",
    "- num_hops (Number of hops): Indicates how many hops are considered when sampling subgraphs\n",
    "- hidden_channels (Hidden channels): Indicates the number of channels to use in the intermediate GNN layers.\n",
    "- num_layers (Number of layers): Indicates the number of layers the GNN model is trained on.\n",
    "- lr (Learning rate): Indicates the learning rate used to train the GNN model.\n",
    "- epochs (Epochs): Indicates the number of epochs for which the model is trained."
   ]
  },
  {
   "cell_type": "code",
   "execution_count": 2,
   "metadata": {},
   "outputs": [],
   "source": [
    "args = dict()\n",
    "args[\"val_ratio\"] = 0.1\n",
    "args[\"test_ratio\"] = 0.1\n",
    "args[\"neg_sampling_ratio\"] = 1.0\n",
    "args[\"num_neighbors\"] = 10\n",
    "args[\"num_hops\"] = 3\n",
    "args[\"hidden_channels\"] = 10\n",
    "args[\"num_layers\"] = 3\n",
    "args[\"lr\"] = 0.0001\n",
    "args[\"epochs\"] = 10"
   ]
  },
  {
   "cell_type": "markdown",
   "metadata": {},
   "source": [
    "#### 3. Loading the dataset\n",
    "\n",
    "The dataset is loaded by creating an instance of the LastFM class from torch_geometric.datasets"
   ]
  },
  {
   "cell_type": "code",
   "execution_count": 3,
   "metadata": {},
   "outputs": [
    {
     "name": "stdout",
     "output_type": "stream",
     "text": [
      "Number of graphs: 1\n"
     ]
    }
   ],
   "source": [
    "dataset = LastFM(root=\"../dataset\")\n",
    "print(f\"Number of graphs: {len(dataset)}\")"
   ]
  },
  {
   "cell_type": "code",
   "execution_count": 4,
   "metadata": {},
   "outputs": [
    {
     "data": {
      "text/plain": [
       "HeteroData(\n",
       "  user={ num_nodes=1892 },\n",
       "  artist={ num_nodes=17632 },\n",
       "  tag={ num_nodes=1088 },\n",
       "  (user, to, artist)={\n",
       "    train_neg_edge_index=[2, 33294760],\n",
       "    val_pos_edge_index=[2, 9283],\n",
       "    val_neg_edge_index=[2, 9283],\n",
       "    test_pos_edge_index=[2, 18567],\n",
       "    test_neg_edge_index=[2, 18567],\n",
       "    edge_index=[2, 64984],\n",
       "  },\n",
       "  (user, to, user)={ edge_index=[2, 25434] },\n",
       "  (artist, to, user)={ edge_index=[2, 64984] },\n",
       "  (artist, to, tag)={ edge_index=[2, 23253] },\n",
       "  (tag, to, artist)={ edge_index=[2, 23253] }\n",
       ")"
      ]
     },
     "execution_count": 4,
     "metadata": {},
     "output_type": "execute_result"
    }
   ],
   "source": [
    "data = dataset[0]\n",
    "data"
   ]
  },
  {
   "cell_type": "markdown",
   "metadata": {},
   "source": [
    "The dataset contains one heterogeneous graph (HeteroData() object). The graph contains:\n",
    "- 1892 user nodes\n",
    "- 17632 artist nodes\n",
    "- 1088 tag nodes\n",
    "- edges between users: could mean that the users follow each other.\n",
    "- edges between artists and users: could mean that the artists are followed by these users\n",
    "- edges between artists and tags: artists and their relevant tags\n",
    "- edges between tags and artists: artists and their relevant tags (reverse edges) \n",
    "- edges between users and artists: could mean that users follow the artists\n",
    "\n",
    "There are also additional postive and negatives edges for validation and testing for users to artist edges.\n",
    "\n",
    "**The link prediction task in this notebook only considers the edges between the users and artists.**"
   ]
  },
  {
   "cell_type": "markdown",
   "metadata": {},
   "source": [
    "#### 4. Creating the right dataset object\n",
    "\n",
    "- A **new HeteroData() object is created** that borrows the relevant data from the imported dataset. \n",
    "\n",
    "##### Tags\n",
    "- The edge types that includes tags and the tag nodes are irrelevant to this use case, so they are ignored. \n",
    "\n",
    "##### Users and Artists\n",
    "- These nodes are included. \n",
    "- The edges (user, to, artist) are considered, but all the positive edges are combined (edge_index, val_pos_edge_index, test_pos_edge_index).\n",
    "- The negative edges are ignored (train_neg_edge_index, val_neg_edge_index, test_neg_edge_index). These will be sampled later using Pytorch geometric components.\n",
    "- The training, validation and testing splits will be performed later. \n",
    "- (user, to, user) edges are included.\n",
    "- (artist, to, user) edges are just reverse edges. These are ignored now as when we convert the new data object to undirected, these edges will automatically be included along with the other edges."
   ]
  },
  {
   "cell_type": "code",
   "execution_count": 11,
   "metadata": {},
   "outputs": [
    {
     "data": {
      "text/plain": [
       "HeteroData(\n",
       "  user={ node_id=[1892] },\n",
       "  artist={ node_id=[17632] },\n",
       "  (user, to, artist)={ edge_index=[2, 92834] },\n",
       "  (user, to, user)={ edge_index=[2, 25434] },\n",
       "  (artist, rev_to, user)={ edge_index=[2, 92834] }\n",
       ")"
      ]
     },
     "execution_count": 11,
     "metadata": {},
     "output_type": "execute_result"
    }
   ],
   "source": [
    "data_new = HeteroData()\n",
    "data_new[\"user\"].node_id = torch.arange(data[\"user\"].num_nodes)\n",
    "data_new[\"artist\"].node_id = torch.arange(data[\"artist\"].num_nodes)\n",
    "data_new[\"user\", \"to\", \"artist\"].edge_index = torch.cat((data[\"user\", \"to\", \"artist\"].edge_index, data[\"user\", \"to\", \"artist\"].val_pos_edge_index, data[\"user\", \"to\", \"artist\"].test_pos_edge_index), dim=1)\n",
    "data_new[\"user\", \"to\", \"user\"].edge_index = data[\"user\", \"to\", \"user\"].edge_index\n",
    "data_new = T.ToUndirected()(data_new)\n",
    "data_new"
   ]
  },
  {
   "cell_type": "markdown",
   "metadata": {},
   "source": [
    "#### 5. Training, Validation and Testing splits \n",
    "\n",
    "The RandomLinkSplit transform from PYG splits the set of links into train, validation and test splits. \n",
    "\n",
    "Each split will contains all the nodes and all the reverse edges.\n",
    "\n",
    "##### Train Split\n",
    "- **edge_index**: contains 80% of the links as the edge index. **These edges form the graph dataset that is used for training. This is separate from the links that are used for predictions in the training set**\n",
    "- **edge_label_index**: **Links that are used for predictions.** Contains 80% of the links (coincidentally same as edge_index for training set, but this is not the case for the valid and test sets.) + an equal number of sampled negative edges. \n",
    "- **edge_label**: labels for all the links in edge_label_index. 0 for negative edges and 1 for positive edges.\n",
    "\n",
    "##### Validation Split\n",
    "- **edge_index**: **same as the training set's edge_index**, because the underlying graph dataset should be the same (as is the case in traditional ML datasets) \n",
    "- **edge_label_index**: **Links that are used for predictions.** Contains 10% of the links + an equal number of sampled negative edges. \n",
    "- **edge_label**: labels for all the links in edge_label_index. 0 for negative edges and 1 for positive edges.\n",
    "\n",
    "#### Testing Split\n",
    "- **edge_index**: train set edge_index + validation set edge_index\n",
    "- **edge_label_index**: **Links that are used for predictions.** Contains 10% of the links + an equal number of sampled negative edges. \n",
    "- **edge_label**: labels for all the links in edge_label_index. 0 for negative edges and 1 for positive edges.\n"
   ]
  },
  {
   "cell_type": "code",
   "execution_count": 12,
   "metadata": {},
   "outputs": [],
   "source": [
    "split_transform = T.RandomLinkSplit(\n",
    "    num_val=0.1,\n",
    "    num_test=0.1,\n",
    "    neg_sampling_ratio=1.0,\n",
    "    add_negative_train_samples=True,\n",
    "    edge_types=(\"user\", \"to\", \"artist\"),\n",
    "    rev_edge_types=(\"artist\", \"rev_to\", \"user\"),\n",
    ")"
   ]
  },
  {
   "cell_type": "code",
   "execution_count": 13,
   "metadata": {},
   "outputs": [
    {
     "data": {
      "text/plain": [
       "(HeteroData(\n",
       "   user={ node_id=[1892] },\n",
       "   artist={ node_id=[17632] },\n",
       "   (user, to, artist)={\n",
       "     edge_index=[2, 74268],\n",
       "     edge_label=[148536],\n",
       "     edge_label_index=[2, 148536],\n",
       "   },\n",
       "   (user, to, user)={ edge_index=[2, 25434] },\n",
       "   (artist, rev_to, user)={ edge_index=[2, 74268] }\n",
       " ),\n",
       " HeteroData(\n",
       "   user={ node_id=[1892] },\n",
       "   artist={ node_id=[17632] },\n",
       "   (user, to, artist)={\n",
       "     edge_index=[2, 74268],\n",
       "     edge_label=[18566],\n",
       "     edge_label_index=[2, 18566],\n",
       "   },\n",
       "   (user, to, user)={ edge_index=[2, 25434] },\n",
       "   (artist, rev_to, user)={ edge_index=[2, 74268] }\n",
       " ),\n",
       " HeteroData(\n",
       "   user={ node_id=[1892] },\n",
       "   artist={ node_id=[17632] },\n",
       "   (user, to, artist)={\n",
       "     edge_index=[2, 83551],\n",
       "     edge_label=[18566],\n",
       "     edge_label_index=[2, 18566],\n",
       "   },\n",
       "   (user, to, user)={ edge_index=[2, 25434] },\n",
       "   (artist, rev_to, user)={ edge_index=[2, 83551] }\n",
       " ))"
      ]
     },
     "execution_count": 13,
     "metadata": {},
     "output_type": "execute_result"
    }
   ],
   "source": [
    "train_dataset, val_dataset, test_dataset = split_transform(data_new)\n",
    "train_dataset, val_dataset, test_dataset"
   ]
  },
  {
   "attachments": {
    "image.png": {
     "image/png": "[encoded data removed]"
    }
   },
   "cell_type": "markdown",
   "metadata": {},
   "source": [
    "#### 6. Batching the data\n",
    "\n",
    "The LinkNeighborLoader is similar to the DataLoader class from torch. It can be used to batch the samples (links) from the dataset.\n",
    "\n",
    "For every link, LinkNeighborLoader extracts a subgraph around that link. A simple example of how the subgraph is extracted can be seen in the image below. All the nodes attached to the target nodes (the nodes connected by the sample link) are extracted along with the relevant edges.\n",
    "\n",
    "![image.png](attachment:image.png)\n",
    "\n",
    "When batch size is 32, the subgraphs around 32 links are extracted and all the nodes and edges are combined to form a single, collective HeteroData() object. "
   ]
  },
  {
   "cell_type": "code",
   "execution_count": 14,
   "metadata": {},
   "outputs": [],
   "source": [
    "num_neighbors = [args[\"num_neighbors\"]] * args[\"num_hops\"]\n",
    "\n",
    "train_loader = LinkNeighborLoader(\n",
    "    data=data_new,\n",
    "    num_neighbors=num_neighbors,\n",
    "    edge_label_index=((\"user\", \"to\", \"artist\"), train_dataset[\"user\", \"to\", \"artist\"].edge_label_index),\n",
    "    edge_label=train_dataset[\"user\", \"to\", \"artist\"].edge_label,\n",
    "    subgraph_type=\"bidirectional\",\n",
    "    neg_sampling=None,\n",
    "    batch_size=32,\n",
    "    shuffle=True\n",
    ")\n",
    "\n",
    "val_loader = LinkNeighborLoader(\n",
    "    data=data_new,\n",
    "    num_neighbors=num_neighbors,\n",
    "    edge_label_index=((\"user\", \"to\", \"artist\"), val_dataset[\"user\", \"to\", \"artist\"].edge_label_index),\n",
    "    edge_label=val_dataset[\"user\", \"to\", \"artist\"].edge_label,\n",
    "    subgraph_type=\"bidirectional\",\n",
    "    neg_sampling=None,\n",
    "    batch_size=32,\n",
    "    shuffle=True\n",
    ")\n",
    "\n",
    "test_loader = LinkNeighborLoader(\n",
    "    data=data_new,\n",
    "    num_neighbors=num_neighbors,\n",
    "    edge_label_index=((\"user\", \"to\", \"artist\"), test_dataset[\"user\", \"to\", \"artist\"].edge_label_index),\n",
    "    edge_label=test_dataset[\"user\", \"to\", \"artist\"].edge_label,\n",
    "    subgraph_type=\"bidirectional\",\n",
    "    neg_sampling=None,\n",
    "    batch_size=32,\n",
    "    shuffle=True\n",
    ")"
   ]
  },
  {
   "cell_type": "code",
   "execution_count": 15,
   "metadata": {},
   "outputs": [
    {
     "data": {
      "text/plain": [
       "HeteroData(\n",
       "  user={\n",
       "    node_id=[1887],\n",
       "    n_id=[1887],\n",
       "  },\n",
       "  artist={\n",
       "    node_id=[5521],\n",
       "    n_id=[5521],\n",
       "  },\n",
       "  (user, to, artist)={\n",
       "    edge_index=[2, 25013],\n",
       "    input_id=[32],\n",
       "    edge_label_index=[2, 32],\n",
       "    edge_label=[32],\n",
       "  },\n",
       "  (user, to, user)={ edge_index=[2, 15948] },\n",
       "  (artist, rev_to, user)={ edge_index=[2, 25013] }\n",
       ")"
      ]
     },
     "execution_count": 15,
     "metadata": {},
     "output_type": "execute_result"
    }
   ],
   "source": [
    "sample = next(iter(train_loader))\n",
    "sample"
   ]
  },
  {
   "cell_type": "markdown",
   "metadata": {},
   "source": [
    "The HeteroData sample above combines 32 enclosing subgraphs in a single collective object."
   ]
  },
  {
   "cell_type": "markdown",
   "metadata": {},
   "source": [
    "#### 7. Define node embeddings"
   ]
  },
  {
   "cell_type": "markdown",
   "metadata": {},
   "source": [
    "The dataset that we have here does not have node features (ie, details like user age, artist age, music genre preferences). The graph structure and its connectivity, however, can be useful for a link predicition task like this. With node embeddings, the goal is to capture the structure of graph and convert this representation into vectors so the GNN model can benefit from this. We define two torch Embedding layers, which are trained along with the GNN model. These node embedding act as node features for the GNN model."
   ]
  },
  {
   "cell_type": "code",
   "execution_count": 16,
   "metadata": {},
   "outputs": [],
   "source": [
    "device = \"cuda\" if torch.cuda.is_available() else \"cpu\"\n",
    "metadata = sample.metadata()\n",
    "\n",
    "node_embedding = dict() \n",
    "node_embedding[\"user\"] = torch.nn.Embedding(data_new[\"user\"].num_nodes, args[\"hidden_channels\"]).to(device)\n",
    "node_embedding[\"artist\"] = torch.nn.Embedding(data_new[\"artist\"].num_nodes, args[\"hidden_channels\"]).to(device)"
   ]
  },
  {
   "cell_type": "markdown",
   "metadata": {},
   "source": [
    "#### 8. Define the GNN model\n",
    "\n",
    "The GNN model is inspired from the GraphSAGE model. It has been adapted to work with the heterogeneous graph structure that we have in this use case. We start by defining a homogeneous model (GNN_model). We define a second class (Model) that defines:\n",
    "\n",
    "- the input dimensions\n",
    "- converts the homogeneous model to a heterogeneous model with the help of the to_hetero() transform from pytorch geometric\n",
    "- defines the linear layers to be used after the GNN model, needed for the final prediction."
   ]
  },
  {
   "cell_type": "code",
   "execution_count": 17,
   "metadata": {},
   "outputs": [],
   "source": [
    "class Model(torch.nn.Module):\n",
    "    def __init__(self, args, node_embedding, device, metadata, dropout = 0.5):\n",
    "        super().__init__()\n",
    "\n",
    "        self.lin1 = Linear(args[\"hidden_channels\"], args[\"hidden_channels\"])\n",
    "        self.lin2 = Linear(args[\"hidden_channels\"], 1)\n",
    "        self.dropout = dropout\n",
    "        self.device = device\n",
    "\n",
    "        self.node_embedding = node_embedding\n",
    "        \n",
    "        initial_channels = 0 \n",
    "\n",
    "        if self.node_embedding is not None:\n",
    "            initial_channels += self.node_embedding[\"user\"].embedding_dim    \n",
    "        \n",
    "        else:\n",
    "            initial_channels = args[\"hidden_channels\"]\n",
    "\n",
    "        self.gnn = GNN_Model(initial_channels, args['hidden_channels'], args['num_layers'], dropout=self.dropout).to(device)\n",
    "        \n",
    "        self.gnn = to_hetero(self.gnn, metadata=metadata)\n",
    "        \n",
    "\n",
    "    def forward(self, data):\n",
    "        x_dict = dict()\n",
    "\n",
    "        if self.node_embedding is not None and self.node_embedding[\"user\"] is not None and self.node_embedding[\"artist\"] is not None and data[\"user\"][\"node_id\"] is not None and data[\"artist\"][\"node_id\"] is not None:\n",
    "            u_emb = self.node_embedding[\"user\"](data[\"user\"][\"node_id\"])\n",
    "            a_emb = self.node_embedding[\"artist\"](data[\"artist\"][\"node_id\"])\n",
    "            x_dict[\"user\"] = u_emb.to(torch.float)\n",
    "            x_dict[\"artist\"] = a_emb.to(torch.float)\n",
    "\n",
    "        x_dict = self.gnn(x=x_dict, edge_index=data.edge_index_dict)\n",
    "        user = x_dict[\"user\"][data[\"user\", \"to\", \"artist\"].edge_label_index[0]]\n",
    "        artist = x_dict[\"artist\"][data[\"user\", \"to\", \"artist\"].edge_label_index[1]]\n",
    "        \n",
    "        x = user * artist\n",
    "        x = F.relu(self.lin1(x))\n",
    "        x = F.dropout(x, p=self.dropout, training=self.training)\n",
    "        x = self.lin2(x)\n",
    "        return x\n",
    "\n",
    "\n",
    "class GNN_Model(torch.nn.Module):\n",
    "    def __init__(self, initial_channels, hidden_channels, num_layers, dropout):\n",
    "        super(GNN_Model, self).__init__()\n",
    "        \n",
    "        self.convs = ModuleList()\n",
    "        self.convs.append(SAGEConv(initial_channels, hidden_channels))\n",
    "        for _ in range(num_layers - 1):\n",
    "            self.convs.append(SAGEConv(hidden_channels, hidden_channels))\n",
    "        \n",
    "        self.dropout = dropout\n",
    "\n",
    "    def reset_parameters(self):\n",
    "        for conv in self.convs:\n",
    "            conv.reset_parameters()\n",
    "\n",
    "    def forward(self, x, edge_index):\n",
    "        for conv in self.convs[:-1]:\n",
    "            x = conv(x, edge_index)\n",
    "            x = F.relu(x)\n",
    "            x = F.dropout(x, p=self.dropout, training=self.training)\n",
    "        x = self.convs[-1](x, edge_index)\n",
    "\n",
    "        return x"
   ]
  },
  {
   "cell_type": "markdown",
   "metadata": {},
   "source": [
    "#### 9. Training the GNN model\n",
    "\n",
    "The training, testing and validation functions and loops are defined as follows:"
   ]
  },
  {
   "cell_type": "code",
   "execution_count": 18,
   "metadata": {},
   "outputs": [],
   "source": [
    "def train():\n",
    "    model.train()\n",
    "\n",
    "    total_loss = 0\n",
    "    for batch in tqdm(train_loader):\n",
    "        batch = batch.to(device)\n",
    "        optimizer.zero_grad()\n",
    "        logits = model(batch)\n",
    "        loss = BCEWithLogitsLoss()(logits.view(-1), batch[\"user\", \"to\", \"artist\"].edge_label.to(torch.float))\n",
    "        loss.backward()\n",
    "        optimizer.step()\n",
    "        total_loss += loss.item()\n",
    "\n",
    "    return total_loss / len(train_dataset)\n",
    "\n",
    "\n",
    "@torch.no_grad()\n",
    "def validate_and_test():\n",
    "    model.eval()\n",
    "    \n",
    "    total_val_loss = 0\n",
    "    y_pred, y_true = [], []\n",
    "    for batch in tqdm(val_loader):\n",
    "        batch = batch.to(device)\n",
    "        logits = model(batch)\n",
    "        val_loss = BCEWithLogitsLoss()(logits.view(-1), batch[\"user\", \"to\", \"artist\"].edge_label.to(torch.float))\n",
    "        total_val_loss += val_loss.item()\n",
    "        y_pred.append(logits.view(-1).cpu())\n",
    "        y_true.append(batch[\"user\", \"to\", \"artist\"].edge_label.view(-1).cpu().to(torch.float))\n",
    "    val_pred, val_true = torch.cat(y_pred), torch.cat(y_true)\n",
    "\n",
    "    total_test_loss = 0\n",
    "    y_pred, y_true = [], []\n",
    "    for batch in tqdm(test_loader):\n",
    "        batch = batch.to(device)\n",
    "        logits = model(batch)\n",
    "        test_loss = BCEWithLogitsLoss()(logits.view(-1), batch[\"user\", \"to\", \"artist\"].edge_label.to(torch.float))\n",
    "        total_test_loss += test_loss.item()\n",
    "        y_pred.append(logits.view(-1).cpu())\n",
    "        y_true.append(batch[\"user\", \"to\", \"artist\"].edge_label.view(-1).cpu().to(torch.float))\n",
    "    test_pred, test_true = torch.cat(y_pred), torch.cat(y_true)\n",
    "\n",
    "\n",
    "    valid_auc = roc_auc_score(val_true, val_pred)\n",
    "    test_auc = roc_auc_score(test_true, test_pred)\n",
    "    results = {}\n",
    "    results['AUC'] = (valid_auc, test_auc)\n",
    "\n",
    "    return total_val_loss / len(val_dataset), total_test_loss / len(test_dataset), results"
   ]
  },
  {
   "cell_type": "markdown",
   "metadata": {},
   "source": [
    "Let's instantiate the model, indicate that the node embeddings need to be trained as well, and define the optimizer. The weights of the embeddings are initialized and the are added to the list of trainable parameters. The list is then passed to the optimizer.  "
   ]
  },
  {
   "cell_type": "code",
   "execution_count": 19,
   "metadata": {},
   "outputs": [
    {
     "name": "stderr",
     "output_type": "stream",
     "text": [
      "g:\\miniconda\\envs\\thesis_seal\\Lib\\site-packages\\torch_geometric\\nn\\fx.py:132: UserWarning: Found function 'dropout' with keyword argument 'training'. During FX tracing, this will likely be baked in as a constant value. Consider replacing this function by a module to properly encapsulate its training flag.\n",
      "  warnings.warn(f\"Found function '{node.name}' with keyword \"\n",
      "g:\\miniconda\\envs\\thesis_seal\\Lib\\site-packages\\torch_geometric\\nn\\fx.py:132: UserWarning: Found function 'dropout_1' with keyword argument 'training'. During FX tracing, this will likely be baked in as a constant value. Consider replacing this function by a module to properly encapsulate its training flag.\n",
      "  warnings.warn(f\"Found function '{node.name}' with keyword \"\n"
     ]
    }
   ],
   "source": [
    "model = Model(args, node_embedding, device, metadata).to(device)\n",
    "\n",
    "torch.nn.init.xavier_uniform_(node_embedding[\"user\"].weight)\n",
    "torch.nn.init.xavier_uniform_(node_embedding[\"artist\"].weight)\n",
    "\n",
    "parameters = list(node_embedding[\"user\"].parameters())\n",
    "parameters += list(node_embedding[\"artist\"].parameters())\n",
    "\n",
    "optimizer = torch.optim.Adam(params=parameters + list(model.parameters()), lr=args['lr'])"
   ]
  },
  {
   "cell_type": "code",
   "execution_count": 20,
   "metadata": {},
   "outputs": [
    {
     "name": "stderr",
     "output_type": "stream",
     "text": [
      "100%|██████████| 4642/4642 [08:34<00:00,  9.03it/s]\n",
      "100%|██████████| 581/581 [00:59<00:00,  9.72it/s]\n",
      "100%|██████████| 581/581 [00:59<00:00,  9.78it/s]\n"
     ]
    },
    {
     "name": "stdout",
     "output_type": "stream",
     "text": [
      "Epoch: 0\n",
      "Train Loss: 764.2704\n",
      "Validation Loss: 82.8667, Validation AUC: 0.7904458902953995\n",
      "Test Loss: 83.6864, Test AUC: 0.7798206778838127\n"
     ]
    },
    {
     "name": "stderr",
     "output_type": "stream",
     "text": [
      "100%|██████████| 4642/4642 [07:54<00:00,  9.78it/s]\n",
      "100%|██████████| 581/581 [00:47<00:00, 12.16it/s]\n",
      "100%|██████████| 581/581 [00:48<00:00, 12.05it/s]\n"
     ]
    },
    {
     "name": "stdout",
     "output_type": "stream",
     "text": [
      "Epoch: 1\n",
      "Train Loss: 661.4186\n",
      "Validation Loss: 73.9005, Validation AUC: 0.8313459745423013\n",
      "Test Loss: 73.8460, Test AUC: 0.8326097186823757\n"
     ]
    },
    {
     "name": "stderr",
     "output_type": "stream",
     "text": [
      "100%|██████████| 4642/4642 [07:21<00:00, 10.50it/s]\n",
      "100%|██████████| 581/581 [00:47<00:00, 12.18it/s]\n",
      "100%|██████████| 581/581 [00:47<00:00, 12.18it/s]\n"
     ]
    },
    {
     "name": "stdout",
     "output_type": "stream",
     "text": [
      "Epoch: 2\n",
      "Train Loss: 605.8289\n",
      "Validation Loss: 65.9560, Validation AUC: 0.8672556317943785\n",
      "Test Loss: 65.8747, Test AUC: 0.8668091170653396\n"
     ]
    },
    {
     "name": "stderr",
     "output_type": "stream",
     "text": [
      "100%|██████████| 4642/4642 [07:20<00:00, 10.53it/s]\n",
      "100%|██████████| 581/581 [00:47<00:00, 12.25it/s]\n",
      "100%|██████████| 581/581 [00:47<00:00, 12.21it/s]\n"
     ]
    },
    {
     "name": "stdout",
     "output_type": "stream",
     "text": [
      "Epoch: 3\n",
      "Train Loss: 555.0377\n",
      "Validation Loss: 60.4335, Validation AUC: 0.8877267098234134\n",
      "Test Loss: 59.4347, Test AUC: 0.8925622642787671\n"
     ]
    },
    {
     "name": "stderr",
     "output_type": "stream",
     "text": [
      "100%|██████████| 4642/4642 [07:17<00:00, 10.62it/s]\n",
      "100%|██████████| 581/581 [00:46<00:00, 12.39it/s]\n",
      "100%|██████████| 581/581 [00:46<00:00, 12.42it/s]\n"
     ]
    },
    {
     "name": "stdout",
     "output_type": "stream",
     "text": [
      "Epoch: 4\n",
      "Train Loss: 517.4416\n",
      "Validation Loss: 56.6109, Validation AUC: 0.9005989317740278\n",
      "Test Loss: 57.3610, Test AUC: 0.8971056369391963\n"
     ]
    },
    {
     "name": "stderr",
     "output_type": "stream",
     "text": [
      "100%|██████████| 4642/4642 [07:12<00:00, 10.72it/s]\n",
      "100%|██████████| 581/581 [00:46<00:00, 12.45it/s]\n",
      "100%|██████████| 581/581 [00:46<00:00, 12.41it/s]\n"
     ]
    },
    {
     "name": "stdout",
     "output_type": "stream",
     "text": [
      "Epoch: 5\n",
      "Train Loss: 492.8903\n",
      "Validation Loss: 54.6415, Validation AUC: 0.908464915712657\n",
      "Test Loss: 55.0381, Test AUC: 0.9063663208554487\n"
     ]
    },
    {
     "name": "stderr",
     "output_type": "stream",
     "text": [
      "100%|██████████| 4642/4642 [07:13<00:00, 10.71it/s]\n",
      "100%|██████████| 581/581 [00:46<00:00, 12.36it/s]\n",
      "100%|██████████| 581/581 [00:46<00:00, 12.39it/s]\n"
     ]
    },
    {
     "name": "stdout",
     "output_type": "stream",
     "text": [
      "Epoch: 6\n",
      "Train Loss: 478.2142\n",
      "Validation Loss: 53.6731, Validation AUC: 0.9081977646436157\n",
      "Test Loss: 53.6935, Test AUC: 0.9110349689916651\n"
     ]
    },
    {
     "name": "stderr",
     "output_type": "stream",
     "text": [
      "100%|██████████| 4642/4642 [07:24<00:00, 10.44it/s]\n",
      "100%|██████████| 581/581 [00:47<00:00, 12.29it/s]\n",
      "100%|██████████| 581/581 [00:47<00:00, 12.24it/s]\n"
     ]
    },
    {
     "name": "stdout",
     "output_type": "stream",
     "text": [
      "Epoch: 7\n",
      "Train Loss: 466.5837\n",
      "Validation Loss: 52.1793, Validation AUC: 0.9156184291080813\n",
      "Test Loss: 52.7256, Test AUC: 0.9136255736918786\n"
     ]
    },
    {
     "name": "stderr",
     "output_type": "stream",
     "text": [
      "100%|██████████| 4642/4642 [07:19<00:00, 10.57it/s]\n",
      "100%|██████████| 581/581 [00:47<00:00, 12.30it/s]\n",
      "100%|██████████| 581/581 [00:47<00:00, 12.17it/s]\n"
     ]
    },
    {
     "name": "stdout",
     "output_type": "stream",
     "text": [
      "Epoch: 8\n",
      "Train Loss: 456.3652\n",
      "Validation Loss: 51.6764, Validation AUC: 0.9160149462096432\n",
      "Test Loss: 52.1652, Test AUC: 0.9139665114417398\n"
     ]
    },
    {
     "name": "stderr",
     "output_type": "stream",
     "text": [
      "100%|██████████| 4642/4642 [07:20<00:00, 10.55it/s]\n",
      "100%|██████████| 581/581 [00:47<00:00, 12.27it/s]\n",
      "100%|██████████| 581/581 [00:47<00:00, 12.31it/s]"
     ]
    },
    {
     "name": "stdout",
     "output_type": "stream",
     "text": [
      "Epoch: 9\n",
      "Train Loss: 448.6992\n",
      "Validation Loss: 51.1479, Validation AUC: 0.9162304750329301\n",
      "Test Loss: 51.8002, Test AUC: 0.9154266371182642\n"
     ]
    },
    {
     "name": "stderr",
     "output_type": "stream",
     "text": [
      "\n"
     ]
    }
   ],
   "source": [
    "train_loss_history = []\n",
    "val_loss_history = []\n",
    "test_loss_history = []\n",
    "\n",
    "for epoch in range(args[\"epochs\"]):\n",
    "    train_loss = train()\n",
    "    train_loss_history.append(train_loss)\n",
    "\n",
    "    val_loss, test_loss, results = validate_and_test()\n",
    "    val_loss_history.append(val_loss)\n",
    "    test_loss_history.append(test_loss)\n",
    "\n",
    "    valid_auc, test_auc = results[\"AUC\"]\n",
    "\n",
    "    print(f\"Epoch: {epoch}\")\n",
    "    print(f\"Train Loss: {train_loss:.4f}\")\n",
    "    print(f\"Validation Loss: {val_loss:.4f}, Validation AUC: {valid_auc}\")\n",
    "    print(f\"Test Loss: {test_loss:.4f}, Test AUC: {test_auc}\")"
   ]
  },
  {
   "cell_type": "markdown",
   "metadata": {},
   "source": [
    "At the end of 10 epochs, we have a validation AUC of **91.62%** and a test AUC of **91.54%**. Let's go ahead and plot the loss curve to see how the training has progressed."
   ]
  },
  {
   "cell_type": "code",
   "execution_count": null,
   "metadata": {},
   "outputs": [
    {
     "ename": "NameError",
     "evalue": "name 'plt' is not defined",
     "output_type": "error",
     "traceback": [
      "\u001b[1;31m---------------------------------------------------------------------------\u001b[0m",
      "\u001b[1;31mNameError\u001b[0m                                 Traceback (most recent call last)",
      "Cell \u001b[1;32mIn[1], line 1\u001b[0m\n\u001b[1;32m----> 1\u001b[0m \u001b[43mplt\u001b[49m\u001b[38;5;241m.\u001b[39mfigure(figsize\u001b[38;5;241m=\u001b[39m(\u001b[38;5;241m10\u001b[39m, \u001b[38;5;241m6\u001b[39m))\n\u001b[0;32m      2\u001b[0m plt\u001b[38;5;241m.\u001b[39mplot(train_loss_history, label\u001b[38;5;241m=\u001b[39m\u001b[38;5;124m'\u001b[39m\u001b[38;5;124mTraining Loss\u001b[39m\u001b[38;5;124m'\u001b[39m)\n\u001b[0;32m      3\u001b[0m plt\u001b[38;5;241m.\u001b[39mplot(val_loss_history, label\u001b[38;5;241m=\u001b[39m\u001b[38;5;124m'\u001b[39m\u001b[38;5;124mValidation Loss\u001b[39m\u001b[38;5;124m'\u001b[39m)\n",
      "\u001b[1;31mNameError\u001b[0m: name 'plt' is not defined"
     ]
    }
   ],
   "source": [
    "plt.figure(figsize=(10, 6))\n",
    "plt.plot(train_loss_history, label='Training Loss')\n",
    "plt.plot(val_loss_history, label='Validation Loss')\n",
    "plt.plot(test_loss_history, label='Testing Loss')\n",
    "plt.xlabel('Epochs')\n",
    "plt.ylabel('Loss')\n",
    "plt.title('Loss Curve')\n",
    "plt.legend()\n",
    "plt.grid(True)\n",
    "plt.show()"
   ]
  },
  {
   "cell_type": "markdown",
   "metadata": {},
   "source": [
    "The training loss rapidly decreased in the first few epochs before it reaches a plateau. The model can be trained for longer to see if we reach a point of overfitting. For now, AUC of 91% on the validation and test sets is a stong result so we end the use case here.\n",
    "\n",
    "This model can now be used to help users find new artists. When the user visits a new artists page on their streaming platform, we can run this model to predict a link between the user and the artist in question. The model considers which other artists this users likes and which other users this user follows and predicts the existence of a link. If the model predicts a link, we can inform the user on the artist's page that **You might like this artist** or **This artist is different from your usual listening preferences** if the model predicts that no link exists.\n"
   ]
  },
  {
   "cell_type": "code",
   "execution_count": null,
   "metadata": {},
   "outputs": [],
   "source": []
  }
 ],
 "metadata": {
  "kernelspec": {
   "display_name": "thesis_seal",
   "language": "python",
   "name": "python3"
  },
  "language_info": {
   "codemirror_mode": {
    "name": "ipython",
    "version": 3
   },
   "file_extension": ".py",
   "mimetype": "text/x-python",
   "name": "python",
   "nbconvert_exporter": "python",
   "pygments_lexer": "ipython3",
   "version": "3.11.9"
  }
 },
 "nbformat": 4,
 "nbformat_minor": 2
}
